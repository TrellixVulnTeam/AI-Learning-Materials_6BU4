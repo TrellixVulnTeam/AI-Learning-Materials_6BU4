{
 "cells": [
  {
   "cell_type": "code",
   "execution_count": 5,
   "metadata": {},
   "outputs": [
    {
     "name": "stdout",
     "output_type": "stream",
     "text": [
      "     pclass        age     embarked                      home.dest     room  \\\n",
      "1086    3rd  31.194181      UNKNOWN                        UNKNOWN  UNKNOWN   \n",
      "12      1st  31.194181    Cherbourg                  Paris, France     B-35   \n",
      "1036    3rd  31.194181      UNKNOWN                        UNKNOWN  UNKNOWN   \n",
      "833     3rd  32.000000  Southampton  Foresvik, Norway Portland, ND  UNKNOWN   \n",
      "1108    3rd  31.194181      UNKNOWN                        UNKNOWN  UNKNOWN   \n",
      "\n",
      "            ticket     boat     sex  \n",
      "1086       UNKNOWN  UNKNOWN    male  \n",
      "12    17477 L69 6s        9  female  \n",
      "1036       UNKNOWN  UNKNOWN    male  \n",
      "833        UNKNOWN  UNKNOWN    male  \n",
      "1108       UNKNOWN  UNKNOWN    male  \n",
      "474\n"
     ]
    }
   ],
   "source": [
    "# 导入pandas并且更名为pd。\n",
    "import pandas as pd\n",
    "# 从互联网读取titanic数据。\n",
    "titanic = pd.read_csv('http://biostat.mc.vanderbilt.edu/wiki/pub/Main/DataSets/titanic.txt')\n",
    "\n",
    "# 分离数据特征与预测目标。\n",
    "y = titanic['survived']\n",
    "\n",
    "X = titanic.drop(['row.names', 'name', 'survived'], axis = 1)\n",
    "\n",
    "# 对对缺失数据进行填充。\n",
    "X['age'].fillna(X['age'].mean(), inplace=True)\n",
    "X.fillna('UNKNOWN', inplace=True)\n",
    "\n",
    "# 分割数据，依然采样25%用于测试。\n",
    "from sklearn.cross_validation import train_test_split\n",
    "X_train, X_test, y_train, y_test = train_test_split(X, y, test_size=0.25, random_state=33)\n",
    "print (X_train.head())\n",
    "# 类别型特征向量化。\n",
    "from sklearn.feature_extraction import DictVectorizer\n",
    "vec = DictVectorizer()\n",
    "X_train = vec.fit_transform(X_train.to_dict(orient='record'))\n",
    "X_test = vec.transform(X_test.to_dict(orient='record'))\n",
    "\n",
    "# 输出处理后特征向量的维度。\n",
    "print (len(vec.feature_names_))\n"
   ]
  },
  {
   "cell_type": "code",
   "execution_count": 6,
   "metadata": {},
   "outputs": [
    {
     "data": {
      "text/plain": [
       "0.82066869300911849"
      ]
     },
     "execution_count": 6,
     "metadata": {},
     "output_type": "execute_result"
    }
   ],
   "source": [
    "# 使用决策树模型依靠所有特征进行预测，并作性能评估。\n",
    "from sklearn.tree import DecisionTreeClassifier\n",
    "dt = DecisionTreeClassifier(criterion='entropy')\n",
    "dt.fit(X_train, y_train)\n",
    "dt.score(X_test, y_test)\n"
   ]
  },
  {
   "cell_type": "code",
   "execution_count": 7,
   "metadata": {},
   "outputs": [
    {
     "data": {
      "text/plain": [
       "0.82066869300911849"
      ]
     },
     "execution_count": 7,
     "metadata": {},
     "output_type": "execute_result"
    }
   ],
   "source": [
    "# 从sklearn导入特征筛选器。\n",
    "from sklearn import feature_selection\n",
    "# 筛选前20%的特征，使用相同配置的决策树模型进行预测，并且评估性能。\n",
    "fs = feature_selection.SelectPercentile(feature_selection.chi2, percentile=20)\n",
    "X_train_fs = fs.fit_transform(X_train, y_train)\n",
    "dt.fit(X_train_fs, y_train)\n",
    "X_test_fs = fs.transform(X_test)\n",
    "dt.score(X_test_fs, y_test)\n"
   ]
  },
  {
   "cell_type": "code",
   "execution_count": 8,
   "metadata": {},
   "outputs": [
    {
     "name": "stdout",
     "output_type": "stream",
     "text": [
      "[ 0.85063904  0.85673057  0.87501546  0.88622964  0.86895485  0.86694496\n",
      "  0.86999588  0.87202639  0.87098536  0.86691404  0.86693465  0.86488353\n",
      "  0.86792414  0.86589363  0.86284271  0.86385281  0.86284271  0.86793445\n",
      "  0.86184292  0.86488353  0.861812    0.86384251  0.87201608  0.87198516\n",
      "  0.86490414  0.87200577  0.86589363  0.86896516  0.86689342  0.86692435\n",
      "  0.86791383  0.86692435  0.87606679  0.86893424  0.86892393  0.87301587\n",
      "  0.86997526  0.87197485  0.86692435  0.86487322  0.86688312  0.86689342\n",
      "  0.86285302  0.86183261  0.86183261  0.86286333  0.85878169  0.86590394\n",
      "  0.86386312  0.85776129]\n",
      "[3]\n",
      "Optimal number of features 7\n"
     ]
    }
   ],
   "source": [
    "# 通过交叉验证（下一节将详细介绍）的方法，按照固定间隔的百分比筛选特征，并作图展示性能随特征筛选比例的变化。\n",
    "from sklearn.cross_validation import cross_val_score\n",
    "import numpy as np\n",
    "\n",
    "percentiles = range(1, 100, 2)\n",
    "results = []\n",
    "\n",
    "for i in percentiles:\n",
    "    fs = feature_selection.SelectPercentile(feature_selection.chi2, percentile = i)\n",
    "    X_train_fs = fs.fit_transform(X_train, y_train)\n",
    "    scores = cross_val_score(dt, X_train_fs, y_train, cv=5)\n",
    "    results = np.append(results, scores.mean())\n",
    "print (results)\n",
    "\n",
    "# 找到提现最佳性能的特征筛选的百分比。\n",
    "opt = np.where(results == results.max())[0]\n",
    "print (opt)\n",
    "print ('Optimal number of features %d' %percentiles[opt[0]])\n"
   ]
  },
  {
   "cell_type": "code",
   "execution_count": 9,
   "metadata": {},
   "outputs": [
    {
     "data": {
      "image/png": "[encoded data removed]",
      "text/plain": [
       "<matplotlib.figure.Figure at 0x1fb98d7b4a8>"
      ]
     },
     "metadata": {},
     "output_type": "display_data"
    }
   ],
   "source": [
    "import pylab as pl\n",
    "pl.plot(percentiles, results)\n",
    "pl.xlabel('percentiles of features')\n",
    "pl.ylabel('accuracy')\n",
    "pl.show()\n"
   ]
  },
  {
   "cell_type": "code",
   "execution_count": 10,
   "metadata": {},
   "outputs": [
    {
     "data": {
      "text/plain": [
       "0.8571428571428571"
      ]
     },
     "execution_count": 10,
     "metadata": {},
     "output_type": "execute_result"
    }
   ],
   "source": [
    "# 使用最佳筛选后的特征，利用相同配置的模型在测试集上进行性能评估。\n",
    "from sklearn import feature_selection\n",
    "fs = feature_selection.SelectPercentile(feature_selection.chi2, percentile=7)\n",
    "X_train_fs = fs.fit_transform(X_train, y_train)\n",
    "dt.fit(X_train_fs, y_train)\n",
    "X_test_fs = fs.transform(X_test)\n",
    "dt.score(X_test_fs, y_test)\n"
   ]
  },
  {
   "cell_type": "code",
   "execution_count": null,
   "metadata": {
    "collapsed": true
   },
   "outputs": [],
   "source": []
  }
 ],
 "metadata": {
  "kernelspec": {
   "display_name": "Python 3",
   "language": "python",
   "name": "python3"
  },
  "language_info": {
   "codemirror_mode": {
    "name": "ipython",
    "version": 3
   },
   "file_extension": ".py",
   "mimetype": "text/x-python",
   "name": "python",
   "nbconvert_exporter": "python",
   "pygments_lexer": "ipython3",
   "version": "3.6.3"
  }
 },
 "nbformat": 4,
 "nbformat_minor": 1
}
