{
 "cells": [
  {
   "cell_type": "code",
   "execution_count": null,
   "metadata": {
    "collapsed": true
   },
   "outputs": [],
   "source": [
    "import pandas as pd\n",
    "def createDataSet():\n",
    "    dataSet = [\n",
    " ['青绿', '蜷缩', '浊响', '清晰', '凹陷', '硬滑', '好瓜'],\n",
    "        # 2\n",
    "        ['乌黑', '蜷缩', '沉闷', '清晰', '凹陷', '硬滑', '好瓜'],\n",
    "        # 3\n",
    "        ['乌黑', '蜷缩', '浊响', '清晰', '凹陷', '硬滑', '好瓜'],\n",
    "        # 4\n",
    "        ['青绿', '蜷缩', '沉闷', '清晰', '凹陷', '硬滑', '好瓜'],\n",
    "        # 5\n",
    "        ['浅白', '蜷缩', '浊响', '清晰', '凹陷', '硬滑', '好瓜'],\n",
    "        # 6\n",
    "        ['青绿', '稍蜷', '浊响', '清晰', '稍凹', '软粘', '好瓜'],\n",
    "        # 7\n",
    "        ['乌黑', '稍蜷', '浊响', '稍糊', '稍凹', '软粘', '好瓜'],\n",
    "        # 8\n",
    "        ['乌黑', '稍蜷', '浊响', '清晰', '稍凹', '硬滑', '好瓜'],\n",
    "        # 9\n",
    "        ['乌黑', '稍蜷', '沉闷', '稍糊', '稍凹', '硬滑', '坏瓜'],\n",
    "        # 10\n",
    "        ['青绿', '硬挺', '清脆', '清晰', '平坦', '软粘', '坏瓜'],\n",
    "        # 11\n",
    "        ['浅白', '硬挺', '清脆', '模糊', '平坦', '硬滑', '坏瓜'],\n",
    "        # 12\n",
    "        ['浅白', '蜷缩', '浊响', '模糊', '平坦', '软粘', '坏瓜'],\n",
    "        # 13\n",
    "        ['青绿', '稍蜷', '浊响', '稍糊', '凹陷', '硬滑', '坏瓜'],\n",
    "        # 14\n",
    "        ['浅白', '稍蜷', '沉闷', '稍糊', '凹陷', '硬滑', '坏瓜'],\n",
    "        # 15\n",
    "        ['乌黑', '稍蜷', '浊响', '清晰', '稍凹', '软粘', '坏瓜'],\n",
    "        # 16\n",
    "        ['浅白', '蜷缩', '浊响', '模糊', '平坦', '硬滑', '坏瓜'],\n",
    "        # 17\n",
    "        ['青绿', '蜷缩', '沉闷', '稍糊', '稍凹', '硬滑', '坏瓜']\n",
    "    ]\n",
    "\n",
    "    # 特征值列表\n",
    "    labels = ['色泽', '根蒂', '敲击', '纹理', '脐部', '触感', '好瓜']\n",
    "    return dataSet, labels\n",
    "\n",
    "dataSet, labels = createDataSet()\n",
    "df = pd.DataFrame(dataSet,columns=labels)\n",
    "print (df)\n",
    "df.to_csv"
   ]
  }
 ],
 "metadata": {
  "kernelspec": {
   "display_name": "Python 3",
   "language": "python",
   "name": "python3"
  },
  "language_info": {
   "codemirror_mode": {
    "name": "ipython",
    "version": 3
   },
   "file_extension": ".py",
   "mimetype": "text/x-python",
   "name": "python",
   "nbconvert_exporter": "python",
   "pygments_lexer": "ipython3",
   "version": "3.6.3"
  }
 },
 "nbformat": 4,
 "nbformat_minor": 2
}
