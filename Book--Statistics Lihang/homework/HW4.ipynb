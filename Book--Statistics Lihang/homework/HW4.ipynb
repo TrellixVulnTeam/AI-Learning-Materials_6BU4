{
 "cells": [
  {
   "cell_type": "code",
   "execution_count": 1,
   "metadata": {
    "collapsed": true
   },
   "outputs": [],
   "source": [
    "import numpy as np"
   ]
  },
  {
   "cell_type": "code",
   "execution_count": 17,
   "metadata": {},
   "outputs": [],
   "source": [
    "data = np.array([[1,1,-1],\n",
    "       [1,2,-1],\n",
    "        [1,2,1],\n",
    "        [1,1,1],\n",
    "        [1,1,-1],\n",
    "        [2,1,-1],\n",
    "        [2,2,-1],\n",
    "        [2,2,1],\n",
    "        [2,3,1],\n",
    "        [2,3,1],\n",
    "        [3,3,1],\n",
    "        [3,2,1],\n",
    "        [3,2,1],\n",
    "        [3,3,1],\n",
    "        [3,3,-1],\n",
    "       ])\n",
    "X = np.array(data[:,0:1])\n",
    "Y = np.array(data[:,2])"
   ]
  },
  {
   "cell_type": "code",
   "execution_count": 22,
   "metadata": {},
   "outputs": [
    {
     "name": "stdout",
     "output_type": "stream",
     "text": [
      "[-1 -1  1  1 -1 -1 -1  1  1  1  1  1  1  1 -1]\n",
      "[-1 -1 -1 -1 -1  1  1  1  1  1  1  1  1  1  1]\n",
      "Number of mislabeled points out of a total 15 points : 5\n"
     ]
    }
   ],
   "source": [
    "from sklearn.naive_bayes import GaussianNB\n",
    "gnb = GaussianNB()\n",
    "y_pred = gnb.fit(X, Y).predict(X)\n",
    "print(\"Number of mislabeled points out of a total %d points : %d\"\n",
    "      % (X.shape[0],(Y != y_pred).sum()))"
   ]
  },
  {
   "cell_type": "code",
   "execution_count": 24,
   "metadata": {},
   "outputs": [
    {
     "name": "stdout",
     "output_type": "stream",
     "text": [
      "[-1 -1  1  1 -1 -1 -1  1  1  1  1  1  1  1 -1]\n",
      "[1 1 1 1 1 1 1 1 1 1 1 1 1 1 1]\n",
      "Number of mislabeled points out of a total 15 points : 6\n"
     ]
    }
   ],
   "source": [
    "from sklearn.naive_bayes import BernoulliNB\n",
    "gnb = BernoulliNB()\n",
    "y_pred = gnb.fit(X, Y).predict(X)\n",
    "print(\"Number of mislabeled points out of a total %d points : %d\"\n",
    "      % (X.shape[0],(Y != y_pred).sum()))"
   ]
  },
  {
   "cell_type": "code",
   "execution_count": 25,
   "metadata": {},
   "outputs": [
    {
     "name": "stdout",
     "output_type": "stream",
     "text": [
      "[-1 -1  1  1 -1 -1 -1  1  1  1  1  1  1  1 -1]\n",
      "[1 1 1 1 1 1 1 1 1 1 1 1 1 1 1]\n",
      "Number of mislabeled points out of a total 15 points : 6\n"
     ]
    }
   ],
   "source": [
    "from sklearn.naive_bayes import MultinomialNB\n",
    "gnb = MultinomialNB()\n",
    "y_pred = gnb.fit(X, Y).predict(X)\n",
    "print(\"Number of mislabeled points out of a total %d points : %d\"\n",
    "      % (X.shape[0],(Y != y_pred).sum()))"
   ]
  }
 ],
 "metadata": {
  "kernelspec": {
   "display_name": "Python 3",
   "language": "python",
   "name": "python3"
  },
  "language_info": {
   "codemirror_mode": {
    "name": "ipython",
    "version": 3
   },
   "file_extension": ".py",
   "mimetype": "text/x-python",
   "name": "python",
   "nbconvert_exporter": "python",
   "pygments_lexer": "ipython3",
   "version": "3.6.2"
  },
  "toc": {
   "base_numbering": 1,
   "nav_menu": {},
   "number_sections": true,
   "sideBar": true,
   "skip_h1_title": false,
   "title_cell": "Table of Contents",
   "title_sidebar": "Contents",
   "toc_cell": false,
   "toc_position": {},
   "toc_section_display": true,
   "toc_window_display": false
  }
 },
 "nbformat": 4,
 "nbformat_minor": 2
}
