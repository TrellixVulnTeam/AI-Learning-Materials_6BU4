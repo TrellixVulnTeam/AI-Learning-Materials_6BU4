{
 "cells": [
  {
   "cell_type": "code",
   "execution_count": 1,
   "metadata": {
    "collapsed": true
   },
   "outputs": [],
   "source": [
    "import numpy as np\n",
    "import pandas as pd"
   ]
  },
  {
   "cell_type": "code",
   "execution_count": 24,
   "metadata": {},
   "outputs": [],
   "source": [
    "class Logistics():\n",
    "    def __init__(self):\n",
    "        self.W = None\n",
    "        self.max = 100\n",
    "        self.learning_rate = 0.1\n",
    "    def fit(self,X_train,y_train):\n",
    "        #print(np.ones(X_train.shape[0]).reshape(-1,1).shape)\n",
    "        X_train = np.concatenate((X_train,np.ones(X_train.shape[0]).reshape(-1,1)),axis=1)\n",
    "        #print(X_train)\n",
    "        self.W = np.zeros(X_train.shape[1])\n",
    "        for j in range(self.max):\n",
    "            Likelihood = 0\n",
    "            #利用目前的W计算对数似然函数\n",
    "            for i in range(X_train.shape[0]):#遍历Xi\n",
    "                Likelihood += y_train[i]*X_train[i,:].dot(self.W)-np.log(1+np.exp(X_train[i,:].dot(self.W))) \n",
    "            dW = 0 \n",
    "            for i in range(X_train.shape[0]): \n",
    "                dW += y_train[i]*X_train[i,:]-(np.exp(X_train[i,:].dot(self.W)))/(1+np.exp(X_train[i,:].dot(self.W)))*X_train[i,:]\n",
    "            #梯度上升\n",
    "            self.W = self.W + self.learning_rate*dW    \n",
    "            #if (j-0)%100 == 0: print(j,Likelihood,self.W)\n",
    "    def predict(self,X_test):\n",
    "        #print(self.W)\n",
    "        #print(X_test.shape)\n",
    "        #X_test = X_test.reshape(,)\n",
    "        X_test = np.concatenate((X_test,np.ones(X_test.shape[0]).reshape(-1,1)),axis=1)\n",
    "        #print(X_test.shape)\n",
    "        #print(X_test.shape)\n",
    "        P1 = np.exp(X_test.dot(self.W))/(1+np.exp(X_test.dot(self.W)))\n",
    "        P0 = 1/(1+np.exp(X_test.dot(self.W)))\n",
    "        #print(self.W)\n",
    "        #print(np.rint(P).astype(np.int))\n",
    "        #print(P1)       \n",
    "        return np.rint(P1).astype(np.int)\n",
    "    def predict_proba(self,X_test):\n",
    "        X_test = np.concatenate((X_test,np.ones(X_test.shape[0]).reshape(-1,1)),axis=1)\n",
    "        P1 = np.exp(X_test.dot(self.W))/(1+np.exp(X_test.dot(self.W)))\n",
    "        P0 = 1/(1+np.exp(X_test.dot(self.W)))     \n",
    "        print(P1.shape)\n",
    "        return np.hstack((P0.reshape(-1,1),P1.reshape(-1,1)))\n"
   ]
  },
  {
   "cell_type": "code",
   "execution_count": 26,
   "metadata": {},
   "outputs": [
    {
     "name": "stdout",
     "output_type": "stream",
     "text": [
      "sklearn result: [[0.05359573 0.94640427]\n",
      " [0.04854066 0.95145934]\n",
      " [0.39465613 0.60534387]\n",
      " [0.68285424 0.31714576]\n",
      " [0.9364563  0.0635437 ]\n",
      " [0.87979039 0.12020961]]\n",
      "sklearn result: [1 1 1 0 0 0]\n",
      "sklearn result: [[0.85545246 0.14454754]]\n",
      "sklearn result: [0]\n",
      "(6,)\n",
      "my result: [[0.00576062 0.99423938]\n",
      " [0.00213775 0.99786225]\n",
      " [0.24763057 0.75236943]\n",
      " [0.62240946 0.37759054]\n",
      " [0.98687569 0.01312431]\n",
      " [0.9447804  0.0552196 ]]\n",
      "my result: [1 1 1 0 0 0]\n",
      "(1,)\n",
      "my result: [[0.55224022 0.44775978]]\n",
      "my result: [0]\n"
     ]
    }
   ],
   "source": [
    "def main():\n",
    "    X_train = np.array([[3,3,3],[4,3,2],[2,1,2],[1,1,1],[-1,0,1],[2,-2,1]])\n",
    "    y_train = np.array([1,1,1,0,0,0])\n",
    "    X_test = np.array([[1,2,-2]])   \n",
    "    \n",
    "    #sklearn\n",
    "    from sklearn.linear_model import LogisticRegression\n",
    "    sklr = LogisticRegression(max_iter = 1000,solver='saga')\n",
    "    sklr.fit(X_train,y_train)\n",
    "    print(\"sklearn result:\",sklr.predict_proba(X_train))\n",
    "    print(\"sklearn result:\",sklr.predict(X_train))\n",
    "    print(\"sklearn result:\",sklr.predict_proba(X_test))\n",
    "    print(\"sklearn result:\",sklr.predict(X_test))\n",
    "    \n",
    "    \n",
    "    lr =  Logistics()\n",
    "    lr.fit(X_train,y_train)\n",
    "    print(\"my result:\",lr.predict_proba(X_train))\n",
    "    print(\"my result:\",lr.predict(X_train))\n",
    "    print(\"my result:\",lr.predict_proba(X_test))\n",
    "    print(\"my result:\",lr.predict(X_test))\n",
    "if __name__==\"__main__\":\n",
    "    main()    "
   ]
  }
 ],
 "metadata": {
  "kernelspec": {
   "display_name": "Python 3",
   "language": "python",
   "name": "python3"
  },
  "language_info": {
   "codemirror_mode": {
    "name": "ipython",
    "version": 3
   },
   "file_extension": ".py",
   "mimetype": "text/x-python",
   "name": "python",
   "nbconvert_exporter": "python",
   "pygments_lexer": "ipython3",
   "version": "3.6.2"
  },
  "toc": {
   "base_numbering": 1,
   "nav_menu": {},
   "number_sections": true,
   "sideBar": true,
   "skip_h1_title": false,
   "title_cell": "Table of Contents",
   "title_sidebar": "Contents",
   "toc_cell": false,
   "toc_position": {},
   "toc_section_display": true,
   "toc_window_display": false
  }
 },
 "nbformat": 4,
 "nbformat_minor": 2
}
