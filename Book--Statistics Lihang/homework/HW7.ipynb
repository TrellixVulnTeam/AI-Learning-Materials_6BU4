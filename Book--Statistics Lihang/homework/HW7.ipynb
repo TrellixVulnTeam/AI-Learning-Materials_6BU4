{
 "cells": [
  {
   "cell_type": "code",
   "execution_count": 6,
   "metadata": {
    "collapsed": true
   },
   "outputs": [],
   "source": [
    "import numpy as np\n",
    "import pandas as pd\n",
    "import matplotlib.pyplot as plt"
   ]
  },
  {
   "cell_type": "code",
   "execution_count": 26,
   "metadata": {},
   "outputs": [
    {
     "name": "stdout",
     "output_type": "stream",
     "text": [
      "[1 2 3 2 3] [1 2 3 2 3]\n",
      "[[-1.e-05  2.e-05]]\n",
      "[0.999965]\n"
     ]
    },
    {
     "data": {
      "image/png": "[encoded data removed]",
      "text/plain": [
       "<Figure size 432x288 with 1 Axes>"
      ]
     },
     "metadata": {},
     "output_type": "display_data"
    }
   ],
   "source": [
    "def main():\n",
    "    X_train = np.array([[1,2],[2,3],[3,3],[2,1],[3,2]])\n",
    "    y_train = np.array([1,1,1,0,0])\n",
    "    print(X_train[:,0],X_train[:,0])\n",
    "\n",
    "    #sklearn\n",
    "    from sklearn.svm import SVC\n",
    "    svc = SVC(kernel = \"linear\",C = 0.00001)\n",
    "    svc.fit(X_train,y_train)\n",
    "    print(svc.coef_)\n",
    "    print(svc.intercept_)\n",
    "    X = np.arange(0,4,0.1)\n",
    "    Y = (-X*svc.coef_[0,0]-svc.intercept_)/svc.coef_[0,1]\n",
    "    \n",
    "    plt.scatter(X_train[:3,0],X_train[:3,1],marker=\"o\")\n",
    "    plt.scatter(X_train[3:,0],X_train[3:,1],marker=\"x\")\n",
    "    plt.plot(X,Y)\n",
    "    plt.show()\n",
    "if __name__==\"__main__\":\n",
    "    main()  "
   ]
  }
 ],
 "metadata": {
  "kernelspec": {
   "display_name": "Python 3",
   "language": "python",
   "name": "python3"
  },
  "language_info": {
   "codemirror_mode": {
    "name": "ipython",
    "version": 3
   },
   "file_extension": ".py",
   "mimetype": "text/x-python",
   "name": "python",
   "nbconvert_exporter": "python",
   "pygments_lexer": "ipython3",
   "version": "3.6.2"
  },
  "toc": {
   "base_numbering": 1,
   "nav_menu": {},
   "number_sections": true,
   "sideBar": true,
   "skip_h1_title": false,
   "title_cell": "Table of Contents",
   "title_sidebar": "Contents",
   "toc_cell": false,
   "toc_position": {},
   "toc_section_display": true,
   "toc_window_display": false
  }
 },
 "nbformat": 4,
 "nbformat_minor": 2
}
