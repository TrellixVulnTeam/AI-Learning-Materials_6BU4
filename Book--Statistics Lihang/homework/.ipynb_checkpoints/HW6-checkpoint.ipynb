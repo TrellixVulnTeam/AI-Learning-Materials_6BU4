{
 "cells": [
  {
   "cell_type": "code",
   "execution_count": 1,
   "metadata": {
    "collapsed": true
   },
   "outputs": [],
   "source": [
    "import numpy as np\n",
    "import pandas as pd"
   ]
  },
  {
   "cell_type": "code",
   "execution_count": 2,
   "metadata": {
    "collapsed": true
   },
   "outputs": [],
   "source": [
    "class Logistics():\n",
    "    def __init__(self):\n",
    "        self.W = None\n",
    "        self.max = 1000\n",
    "        self.learning_rate = 0.1\n",
    "    def fit(self,X_train,y_train):\n",
    "        #print(np.ones(X_train.shape[0]).reshape(-1,1).shape)\n",
    "        X_train = np.concatenate((X_train,np.ones(X_train.shape[0]).reshape(-1,1)),axis=1)\n",
    "        #print(X_train)\n",
    "        self.W = np.zeros(X_train.shape[1])\n",
    "        for j in range(self.max):\n",
    "            Likelihood = 0\n",
    "            #利用目前的W计算对数似然函数\n",
    "            for i in range(X_train.shape[0]):#遍历Xi\n",
    "                Likelihood += y_train[i]*X_train[i,:].dot(self.W)-np.log(1+np.exp(X_train[i,:].dot(self.W))) \n",
    "            dW = 0 \n",
    "            for i in range(X_train.shape[0]): \n",
    "                dW += y_train[i]*X_train[i,:]-(np.exp(X_train[i,:].dot(self.W)))/(1+np.exp(X_train[i,:].dot(self.W)))*X_train[i,:]\n",
    "            #梯度上升\n",
    "            self.W = self.W + self.learning_rate*dW    \n",
    "            #if (j-0)%100 == 0: print(j,Likelihood,self.W)\n",
    "    def predict(self,X_test):\n",
    "        #print(self.W)\n",
    "        #print(X_test.shape)\n",
    "        #X_test = X_test.reshape(,)\n",
    "        X_test = np.concatenate((X_test,np.ones(X_test.shape[0]).reshape(-1,1)),axis=1)\n",
    "        #print(X_test.shape)\n",
    "        #print(X_test.shape)\n",
    "        P1 = np.exp(X_test.dot(self.W))/(1+np.exp(X_test.dot(self.W)))\n",
    "        P0 = 1/(1+np.exp(X_test.dot(self.W)))\n",
    "        #print(self.W)\n",
    "        #print(np.rint(P).astype(np.int))\n",
    "        #print(P1)       \n",
    "        return np.rint(P1).astype(np.int)\n"
   ]
  },
  {
   "cell_type": "code",
   "execution_count": 4,
   "metadata": {},
   "outputs": [
    {
     "name": "stdout",
     "output_type": "stream",
     "text": [
      "sklearn result: [1 1 1 0 0 0]\n",
      "sklearn result: [0]\n",
      "my result: [1 1 1 0 0 0]\n",
      "my result: [0]\n"
     ]
    }
   ],
   "source": [
    "def main():\n",
    "    X_train = np.array([[3,3,3],[4,3,2],[2,1,2],[1,1,1],[-1,0,1],[2,-2,1]])\n",
    "    y_train = np.array([1,1,1,0,0,0])\n",
    "    X_test = np.array([[1,2,-2]])   \n",
    "    \n",
    "    #sklearn\n",
    "    from sklearn.linear_model import LogisticRegression\n",
    "    sklr = LogisticRegression(max_iter = 1000,solver='saga')\n",
    "    sklr.fit(X_train,y_train)\n",
    "    #print(\"sklearn result:\",sklr.predict_proba(X_train))\n",
    "    print(\"sklearn result:\",sklr.predict(X_train))\n",
    "    #print(\"sklearn result:\",sklr.predict_proba(X_test))\n",
    "    print(\"sklearn result:\",sklr.predict(X_test))\n",
    "    \n",
    "    \n",
    "    lr =  Logistics()\n",
    "    lr.fit(X_train,y_train)\n",
    "    print(\"my result:\",lr.predict(X_train))\n",
    "    print(\"my result:\",lr.predict(X_test))\n",
    "if __name__==\"__main__\":\n",
    "    main()    "
   ]
  }
 ],
 "metadata": {
  "kernelspec": {
   "display_name": "Python 3",
   "language": "python",
   "name": "python3"
  },
  "language_info": {
   "codemirror_mode": {
    "name": "ipython",
    "version": 3
   },
   "file_extension": ".py",
   "mimetype": "text/x-python",
   "name": "python",
   "nbconvert_exporter": "python",
   "pygments_lexer": "ipython3",
   "version": "3.6.2"
  },
  "toc": {
   "base_numbering": 1,
   "nav_menu": {},
   "number_sections": true,
   "sideBar": true,
   "skip_h1_title": false,
   "title_cell": "Table of Contents",
   "title_sidebar": "Contents",
   "toc_cell": false,
   "toc_position": {},
   "toc_section_display": true,
   "toc_window_display": false
  }
 },
 "nbformat": 4,
 "nbformat_minor": 2
}
