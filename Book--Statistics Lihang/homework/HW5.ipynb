{
 "cells": [
  {
   "cell_type": "code",
   "execution_count": 1,
   "metadata": {},
   "outputs": [],
   "source": [
    "from sklearn.tree import DecisionTreeClassifier\n",
    "import numpy as np\n",
    "import pandas as pd"
   ]
  },
  {
   "cell_type": "code",
   "execution_count": 2,
   "metadata": {
    "collapsed": true
   },
   "outputs": [],
   "source": [
    "age = np.array([\"青年\",\"青年\",\"青年\",\"青年\",\"青年\",\"中年\",\"中年\",\"中年\",\"中年\",\"中年\",\"老年\",\"老年\",\"老年\",\"老年\",\"老年\"])\n",
    "work = np.array([\"N\",\"N\",\"Y\",\"Y\",\"N\",\"N\",\"N\",\"Y\",\"N\",\"N\",\"N\",\"N\",\"Y\",\"Y\",\"N\"])\n",
    "house = np.array([\"N\",\"N\",\"N\",\"Y\",\"N\",\"N\",\"N\",\"Y\",\"Y\",\"Y\",\"Y\",\"Y\",\"N\",\"N\",\"N\"])\n",
    "loan = np.array([\"一般\",\"好\",\"好\",\"一般\",\"一般\",\"一般\",\"好\",\"好\",\"非常好\",\"非常好\",\"非常好\",\"好\",\"好\",\"非常好\",\"一般\"])\n",
    "Y = np.array([\"N\",\"N\",\"Y\",\"Y\",\"N\",\"N\",\"N\",\"Y\",\"Y\",\"Y\",\"Y\",\"Y\",\"Y\",\"Y\",\"N\"]).T\n",
    "X = np.vstack((age,work,house,loan)).T"
   ]
  },
  {
   "cell_type": "code",
   "execution_count": 3,
   "metadata": {
    "collapsed": true
   },
   "outputs": [],
   "source": [
    "X_train = pd.DataFrame(X)\n",
    "Y_train = pd.DataFrame(Y)"
   ]
  },
  {
   "cell_type": "code",
   "execution_count": 4,
   "metadata": {},
   "outputs": [],
   "source": [
    "from sklearn.preprocessing import OneHotEncoder\n",
    "enc = OneHotEncoder()\n",
    "X_train = enc.fit_transform(X_train).toarray()"
   ]
  },
  {
   "cell_type": "code",
   "execution_count": 5,
   "metadata": {},
   "outputs": [],
   "source": [
    "A = np.array([[\"青年\",\"N\",\"Y\",\"一般\"]])\n",
    "B = np.array([[\"中年\",\"Y\",\"N\",\"好\"]])\n",
    "C = np.array([[\"老年\",\"N\",\"Y\",\"一般\"]])\n",
    "\n",
    "A = enc.transform(A).toarray()\n",
    "B = enc.transform(B).toarray()\n",
    "C = enc.transform(C).toarray()"
   ]
  },
  {
   "cell_type": "code",
   "execution_count": 6,
   "metadata": {},
   "outputs": [
    {
     "name": "stdout",
     "output_type": "stream",
     "text": [
      "['Y']\n",
      "['Y']\n",
      "['Y']\n"
     ]
    }
   ],
   "source": [
    "dtc = DecisionTreeClassifier()\n",
    "dtc.fit(X_train,Y_train)\n",
    "print(dtc.predict(A))\n",
    "print(dtc.predict(B))\n",
    "print(dtc.predict(C))"
   ]
  }
 ],
 "metadata": {
  "kernelspec": {
   "display_name": "Python 3",
   "language": "python",
   "name": "python3"
  },
  "language_info": {
   "codemirror_mode": {
    "name": "ipython",
    "version": 3
   },
   "file_extension": ".py",
   "mimetype": "text/x-python",
   "name": "python",
   "nbconvert_exporter": "python",
   "pygments_lexer": "ipython3",
   "version": "3.6.2"
  },
  "toc": {
   "base_numbering": 1,
   "nav_menu": {},
   "number_sections": true,
   "sideBar": true,
   "skip_h1_title": false,
   "title_cell": "Table of Contents",
   "title_sidebar": "Contents",
   "toc_cell": false,
   "toc_position": {},
   "toc_section_display": true,
   "toc_window_display": false
  }
 },
 "nbformat": 4,
 "nbformat_minor": 2
}
